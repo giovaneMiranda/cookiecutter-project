{
 "cells": [
  {
   "cell_type": "markdown",
   "id": "c6e43784-7b6f-424a-8d15-a2154a5e7a35",
   "metadata": {
    "tags": []
   },
   "source": [
    "# Install "
   ]
  },
  {
   "cell_type": "markdown",
   "id": "df6a2a79-628e-48d0-9438-73b17f0c8fa3",
   "metadata": {},
   "source": [
    "# 1.0 Import "
   ]
  },
  {
   "cell_type": "code",
   "execution_count": 2,
   "id": "32cebf3f-4f1b-48da-8de0-e4808a9434fd",
   "metadata": {
    "ExecuteTime": {
     "end_time": "2022-07-21T18:38:05.867839Z",
     "start_time": "2022-07-21T18:37:44.935124Z"
    },
    "execution": {
     "iopub.execute_input": "2022-07-27T16:53:25.781517Z",
     "iopub.status.busy": "2022-07-27T16:53:25.781142Z",
     "iopub.status.idle": "2022-07-27T16:53:37.065058Z",
     "shell.execute_reply": "2022-07-27T16:53:37.063976Z",
     "shell.execute_reply.started": "2022-07-27T16:53:25.781467Z"
    },
    "tags": []
   },
   "outputs": [
    {
     "name": "stderr",
     "output_type": "stream",
     "text": [
      "/opt/conda/lib/python3.7/site-packages/tqdm/auto.py:22: TqdmWarning: IProgress not found. Please update jupyter and ipywidgets. See https://ipywidgets.readthedocs.io/en/stable/user_install.html\n",
      "  from .autonotebook import tqdm as notebook_tqdm\n"
     ]
    }
   ],
   "source": [
    "# configuracao \n",
    "from IPython.display import Image\n",
    "from IPython.core.display  import HTML\n",
    "import warnings\n",
    "import pickle\n",
    "\n",
    "# manipulacao de dados\n",
    "import pandas as pd\n",
    "import numpy as np\n",
    "from sklearn.preprocessing import StandardScaler, RobustScaler, LabelEncoder, MinMaxScaler\n",
    "from sklearn.preprocessing import OneHotEncoder\n",
    "import random\n",
    "from unidecode import unidecode\n",
    "\n",
    "# estatistica \n",
    "import scipy.stats as stats\n",
    "from pandas_profiling import ProfileReport\n",
    "\n",
    "\n",
    "# visualizacao \n",
    "import seaborn as sns\n",
    "import matplotlib.pyplot as plt\n",
    "import pylab\n",
    "\n",
    "# modelo \n",
    "from sklearn.model_selection import train_test_split, cross_validate\n",
    "from sklearn.ensemble import RandomForestClassifier\n",
    "from boruta import BorutaPy\n",
    "import category_encoders as ce\n",
    "from imblearn.under_sampling import TomekLinks\n",
    "from imblearn.combine import SMOTETomek\n",
    "from xgboost import XGBClassifier\n",
    "from sklearn.discriminant_analysis import QuadraticDiscriminantAnalysis, LinearDiscriminantAnalysis\n",
    "\n",
    "\n",
    "# metricas\n",
    "from sklearn import metrics\n",
    "from scikitplot import metrics as mt\n",
    "from sklearn.metrics import accuracy_score, precision_score, recall_score, f1_score, roc_auc_score, make_scorer, balanced_accuracy_score, cohen_kappa_score"
   ]
  },
  {
   "cell_type": "markdown",
   "id": "e33b3cb8-1b14-4563-9622-d5e887dbbfcd",
   "metadata": {},
   "source": [
    "# 1.1 Helper Functions"
   ]
  },
  {
   "cell_type": "markdown",
   "id": "cd49faf8-7387-464d-93eb-6b63ac1aad55",
   "metadata": {},
   "source": [
    "## 1.2 Import Dados"
   ]
  },
  {
   "cell_type": "markdown",
   "id": "e06cbe68-9868-43e2-8fdf-ac8e0df49949",
   "metadata": {},
   "source": [
    "# 2.0 Analise Descritiva  "
   ]
  },
  {
   "cell_type": "markdown",
   "id": "7533f6c6-dec5-4794-908c-0eb82fb4c468",
   "metadata": {},
   "source": [
    "## 2.1 Rename Colunas  "
   ]
  },
  {
   "cell_type": "markdown",
   "id": "d84bf208-62fe-4a53-aeb0-0990e56eccc1",
   "metadata": {},
   "source": [
    "## 2.2 Descrição Colunas "
   ]
  },
  {
   "cell_type": "markdown",
   "id": "c698d7a2-bed8-48e4-92c2-d168a674f5de",
   "metadata": {},
   "source": [
    "## 2.3 Dados Faltantes - Na"
   ]
  },
  {
   "cell_type": "markdown",
   "id": "40729ccb-abaf-464b-92b3-afd87f0963ea",
   "metadata": {},
   "source": [
    "## 2.4 Preenchendo Na "
   ]
  },
  {
   "cell_type": "markdown",
   "id": "a2011b29-8230-4810-9997-cf68c5565e89",
   "metadata": {},
   "source": [
    "## 2.5 Altereando Data Type "
   ]
  },
  {
   "cell_type": "markdown",
   "id": "9a9f957f-18d4-4848-82c6-5230a0df1c64",
   "metadata": {},
   "source": [
    "## 2.6 Estatistica Descritiva "
   ]
  },
  {
   "cell_type": "markdown",
   "id": "76c03d1f-9258-4d5c-844b-1f753d5fb8b9",
   "metadata": {},
   "source": [
    "### 2.6.1 Atributos Numericos  "
   ]
  },
  {
   "cell_type": "markdown",
   "id": "3033a42d-de83-4d9c-92e2-c531990d012f",
   "metadata": {},
   "source": [
    "### 2.6.2 Atributos Categoricos "
   ]
  },
  {
   "cell_type": "markdown",
   "id": "ce1f296b-21cb-4a5d-b9d5-163b2c735d82",
   "metadata": {},
   "source": [
    "# 3.0 Feature Engineering "
   ]
  },
  {
   "cell_type": "markdown",
   "id": "4fe80736-291f-417b-8e1a-e66eb742dc7f",
   "metadata": {},
   "source": [
    "## 3.1 Mapa de Hipoteses "
   ]
  },
  {
   "cell_type": "markdown",
   "id": "bd522078-e8e0-41fb-aea7-30eefb6a8692",
   "metadata": {},
   "source": [
    "## 3.2 Levantendo Hipoteses"
   ]
  },
  {
   "cell_type": "markdown",
   "id": "8f4f9128-a64a-4189-8b3b-0076d11e81ed",
   "metadata": {
    "tags": []
   },
   "source": [
    "## 3.3 Criacao de Features "
   ]
  },
  {
   "cell_type": "markdown",
   "id": "90766fb4-5739-435e-8b88-4f734e795fea",
   "metadata": {},
   "source": [
    "# 4.0 Filtro de Dados"
   ]
  },
  {
   "cell_type": "markdown",
   "id": "463dbeb5-f288-49ac-9985-c7112e472a22",
   "metadata": {},
   "source": [
    "## 4.1 Filtro de Linha "
   ]
  },
  {
   "cell_type": "markdown",
   "id": "51c43d8d-fdf3-4390-a5b6-1f2d78e4e770",
   "metadata": {},
   "source": [
    "## 4.2 Filtro de Coluna"
   ]
  },
  {
   "cell_type": "markdown",
   "id": "fe8f9cd4-d6f2-468e-a697-068a82a45e00",
   "metadata": {
    "heading_collapsed": true
   },
   "source": [
    "# 5.0 Analise Exploratoria de Dados - EDA "
   ]
  },
  {
   "cell_type": "markdown",
   "id": "f282beb3-78a3-47d9-a837-f82322bd6df0",
   "metadata": {
    "hidden": true
   },
   "source": [
    "## 5.1 Analise Univariada"
   ]
  },
  {
   "cell_type": "markdown",
   "id": "8681ec19-3391-475b-9fe3-f91dcd03878e",
   "metadata": {
    "hidden": true
   },
   "source": [
    "## 5.2 Analise Bivariada"
   ]
  },
  {
   "cell_type": "markdown",
   "id": "b4cad03e-f09c-4097-bd80-8e7bccf9fb91",
   "metadata": {
    "heading_collapsed": true
   },
   "source": [
    "# 6.0 Modelagem de Dados"
   ]
  }
 ],
 "metadata": {
  "kernelspec": {
   "display_name": "cdb_cluster (Local)",
   "language": "python",
   "name": "local-cdb_cluster"
  },
  "language_info": {
   "codemirror_mode": {
    "name": "ipython",
    "version": 3
   },
   "file_extension": ".py",
   "mimetype": "text/x-python",
   "name": "python",
   "nbconvert_exporter": "python",
   "pygments_lexer": "ipython3",
   "version": "3.7.12"
  }
 },
 "nbformat": 4,
 "nbformat_minor": 5
}
